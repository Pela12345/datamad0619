{
 "cells": [
  {
   "cell_type": "code",
   "execution_count": 7,
   "metadata": {},
   "outputs": [
    {
     "data": {
      "text/plain": [
       "2"
      ]
     },
     "execution_count": 7,
     "metadata": {},
     "output_type": "execute_result"
    }
   ],
   "source": [
    "from dotenv import load_dotenv\n",
    "load_dotenv()\n",
    "import requests\n",
    "import json\n",
    "import pandas as pd\n",
    "import os\n",
    "\n",
    "\n",
    "key = os.environ[\"Token\"]\n",
    "\n",
    "since='2019-06-19'\n",
    "until='2019-06-27'\n",
    "\n",
    "repo = 'ironhack-datalabs/datamad0619'\n",
    "commits = 'http://api.github.com/repos/ironhack-datalabs/datamad0619/commits?since={}&until={}'.format(since, until)\n",
    "\n",
    "\n",
    "\n",
    "res = requests.get(commits, auth=('Pela12345', key))\n",
    "res_final = res.json()\n",
    "\n",
    "commit_list=[]\n",
    "for i in res_final:\n",
    "    commit_list.append(i.get('commit'))\n",
    "\n",
    "len(res_final)\n",
    "    \n",
    "\n",
    "\n",
    "    "
   ]
  },
  {
   "cell_type": "code",
   "execution_count": null,
   "metadata": {},
   "outputs": [],
   "source": []
  }
 ],
 "metadata": {
  "kernelspec": {
   "display_name": "Python 3",
   "language": "python",
   "name": "python3"
  },
  "language_info": {
   "codemirror_mode": {
    "name": "ipython",
    "version": 3
   },
   "file_extension": ".py",
   "mimetype": "text/x-python",
   "name": "python",
   "nbconvert_exporter": "python",
   "pygments_lexer": "ipython3",
   "version": "3.7.3"
  }
 },
 "nbformat": 4,
 "nbformat_minor": 2
}
