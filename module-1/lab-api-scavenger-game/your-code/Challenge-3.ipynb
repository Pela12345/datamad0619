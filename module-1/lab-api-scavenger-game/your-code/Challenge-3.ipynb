{
 "cells": [
  {
   "cell_type": "code",
   "execution_count": null,
   "metadata": {},
   "outputs": [],
   "source": [
    "# enter your code below\n",
    "from dotenv import load_dotenv\n",
    "load_dotenv()\n",
    "import requests\n",
    "import json\n",
    "import pandas as pd\n",
    "import os\n",
    "\n",
    "\n",
    "key = os.environ[\"Token\"]\n",
    "\n",
    "forks = 'http://api.github.com/repos/ironhack-datalabs/madrid-oct-2018/forks'\n",
    "\n",
    "res = requests.get(forks, auth=('Pela12345', key))\n",
    "res_final = res.json()\n",
    "\n",
    "lang_list=[]\n",
    "for i in res_final:\n",
    "    lang_list.append(i.get('language'))\n",
    "\n",
    "print(set(lang_list))"
   ]
  }
 ],
 "metadata": {
  "kernelspec": {
   "display_name": "Python 3",
   "language": "python",
   "name": "python3"
  },
  "language_info": {
   "codemirror_mode": {
    "name": "ipython",
    "version": 3
   },
   "file_extension": ".py",
   "mimetype": "text/x-python",
   "name": "python",
   "nbconvert_exporter": "python",
   "pygments_lexer": "ipython3",
   "version": "3.7.3"
  }
 },
 "nbformat": 4,
 "nbformat_minor": 2
}
